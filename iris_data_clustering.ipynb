{
  "nbformat": 4,
  "nbformat_minor": 0,
  "metadata": {
    "colab": {
      "name": "iris_data_clustering.ipynb",
      "provenance": [],
      "collapsed_sections": []
    },
    "kernelspec": {
      "name": "python3",
      "display_name": "Python 3"
    },
    "language_info": {
      "name": "python"
    }
  },
  "cells": [
    {
      "cell_type": "markdown",
      "metadata": {
        "id": "F76C6WE8ayzJ"
      },
      "source": [
        "#K-Means Clustering on Iris Data"
      ]
    },
    {
      "cell_type": "code",
      "metadata": {
        "id": "9O2YK1lnVJ1-"
      },
      "source": [
        "import numpy as np\n",
        "from sklearn.datasets import load_iris\n",
        "from matplotlib import pyplot as plt\n",
        "iris = load_iris()\n",
        "\n",
        "figure, ax = plt.subplots(nrows=4,ncols=4,figsize=(10,10))\n",
        "for i in range(4):\n",
        "  for j in range(4):\n",
        "    ax[i][j].scatter(iris.data[:, i], iris.data[:, j], c=iris.target)\n",
        "    ax[i][j].set_xlabel(iris.feature_names[i])\n",
        "    ax[i][j].set_ylabel(iris.feature_names[j])\n",
        "\n",
        "plt.tight_layout()\n",
        "#plt.show()\n",
        "plt.savefig('scatter.png',bbox_inches = 'tight')"
      ],
      "execution_count": null,
      "outputs": []
    },
    {
      "cell_type": "code",
      "metadata": {
        "id": "-15ry56kVYDw"
      },
      "source": [
        "plt.figure(figsize=(5, 4))\n",
        "plt.scatter(iris.data[:, x_index], iris.data[:, y_index])\n",
        "plt.xlabel(iris.feature_names[x_index])\n",
        "plt.ylabel(iris.feature_names[y_index])\n",
        "\n",
        "plt.tight_layout()\n",
        "plt.show()"
      ],
      "execution_count": null,
      "outputs": []
    },
    {
      "cell_type": "code",
      "metadata": {
        "id": "sA6b0ra_V0dj"
      },
      "source": [
        "from copy import deepcopy\n",
        "from sklearn.metrics import classification_report\n",
        "\n",
        "def random_sample(arr: np.array, size: int = 1) -> np.array:\n",
        "    return arr[np.random.choice(len(arr), size=size, replace=False)]\n",
        "\n",
        "\n",
        "def dist(a, b, ax=1):\n",
        "    return np.linalg.norm(a - b, axis=ax)\n",
        "\n",
        "points = iris.data\n",
        "k=3\n",
        "C = random_sample(points,k)\n",
        "print(\"Initial Centers:\\n\")\n",
        "print(C)\n",
        "print('\\n')\n",
        "\n",
        "plt.scatter(points[:, x_index], points[:, y_index], s=12)\n",
        "plt.scatter(C[:,x_index], C[:,y_index], marker='*', s=200, c='g')\n",
        "plt.show()\n",
        "\n",
        "C_old = np.zeros(C.shape)\n",
        "cluster_label = np.zeros(len(points))\n",
        "error = dist(C, C_old, None)\n",
        "\n",
        "itr = 1\n",
        "while error != 0.0:\n",
        "    \n",
        "    for i in range(len(points)):\n",
        "        distances = dist(points[i], C)\n",
        "        cluster = np.argmin(distances)\n",
        "        cluster_label[i] = cluster\n",
        "    \n",
        "    C_old = deepcopy(C)\n",
        "    \n",
        "    for i in range(k):\n",
        "        tmps = [points[j] for j in range(len(points)) if cluster_label[j] == i]\n",
        "        if len(tmps)>0:\n",
        "          C[i] = np.mean(tmps, axis=0)\n",
        "\n",
        "    print('After Epoch:', itr)\n",
        "    #print('\\n\\nPerformance Report:\\n')\n",
        "    #print(classification_report(iris.target, cluster_label))\n",
        "\n",
        "    print('\\n Old Cluster centers: \\n',C_old)\n",
        "    print('\\n New Cluster centers: \\n',C)\n",
        "    error = dist(C, C_old, None)\n",
        "    print('error: ',dist(C, C_old, None))\n",
        "    print('\\n')\n",
        "    colors = ['#1f77b4', '#ff7f0e', '#2ca02c', '#d62728', '#9467bd', '#8c564b', '#e377c2']\n",
        "    fig, ax = plt.subplots()\n",
        "    for i in range(k):\n",
        "            tmps = np.array([points[j] for j in range(len(points)) if cluster_label[j] == i])\n",
        "            if len(tmps)>0:\n",
        "              ax.scatter(tmps[:, 0], tmps[:, 3], s=12, c=colors[i])\n",
        "    ax.scatter(C[:, 0], C[:, 3], marker='*', s=200, c='#050505')\n",
        "    plt.show()"
      ],
      "execution_count": null,
      "outputs": []
    },
    {
      "cell_type": "code",
      "metadata": {
        "id": "IZr9z14nW0Jd"
      },
      "source": [
        ""
      ],
      "execution_count": null,
      "outputs": []
    }
  ]
}